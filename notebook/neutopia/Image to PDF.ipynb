{
 "cells": [
  {
   "cell_type": "code",
   "execution_count": 9,
   "id": "74f392cf",
   "metadata": {},
   "outputs": [
    {
     "name": "stdout",
     "output_type": "stream",
     "text": [
      "Image to PDF.ipynb neu02.jpg          neu05.jpg          neu08.jpg\r\n",
      "img2pdf.py         neu03.jpg          neu06.jpg          neu09.jpg\r\n",
      "neu01.jpg          neu04.jpg          neu07.jpg          neutopia.pdf\r\n"
     ]
    }
   ],
   "source": [
    "!ls"
   ]
  },
  {
   "cell_type": "code",
   "execution_count": 10,
   "id": "69897ac7",
   "metadata": {},
   "outputs": [],
   "source": [
    "pdfName = 'neutopia.pdf'\n",
    "ext = '.jpg'"
   ]
  },
  {
   "cell_type": "code",
   "execution_count": 11,
   "id": "a737ee26",
   "metadata": {},
   "outputs": [],
   "source": [
    "import os\n",
    "from PIL import Image\n",
    "\n",
    "imageFiles = [f for f in os.listdir(\"./\") if ext in f]\n",
    "imageFiles.sort()"
   ]
  },
  {
   "cell_type": "code",
   "execution_count": 12,
   "id": "9ffc7846",
   "metadata": {},
   "outputs": [],
   "source": [
    "images = [Image.open(f) for f in imageFiles]     \n",
    "images[0].save(pdfName, \"PDF\" , resolution = 100.0, save_all = True, append_images = images[1:])"
   ]
  },
  {
   "cell_type": "code",
   "execution_count": null,
   "id": "fc404868",
   "metadata": {},
   "outputs": [],
   "source": []
  }
 ],
 "metadata": {
  "kernelspec": {
   "display_name": "Python 3 (ipykernel)",
   "language": "python",
   "name": "python3"
  },
  "language_info": {
   "codemirror_mode": {
    "name": "ipython",
    "version": 3
   },
   "file_extension": ".py",
   "mimetype": "text/x-python",
   "name": "python",
   "nbconvert_exporter": "python",
   "pygments_lexer": "ipython3",
   "version": "3.9.7"
  }
 },
 "nbformat": 4,
 "nbformat_minor": 5
}
